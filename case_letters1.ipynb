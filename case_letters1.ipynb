{
 "cells": [
  {
   "cell_type": "code",
   "execution_count": 26,
   "id": "22987809",
   "metadata": {},
   "outputs": [],
   "source": [
    " def casecal(string):\n",
    "    u=0\n",
    "    l=0\n",
    "    string=string.replace(' ','')\n",
    "    for char in string:\n",
    "        if char.isupper():\n",
    "            u+=1\n",
    "        else:\n",
    "            l+=1\n",
    "    print('no.of upper case letters:',u)\n",
    "    print('no.of lower case letter:',l)"
   ]
  },
  {
   "cell_type": "code",
   "execution_count": 27,
   "id": "9bf09cbe",
   "metadata": {},
   "outputs": [
    {
     "name": "stdout",
     "output_type": "stream",
     "text": [
      "no.of upper case letters: 3\n",
      "no.of lower case letter: 12\n"
     ]
    }
   ],
   "source": [
    "s='The quick Brow Fox'\n",
    "casecal(s)"
   ]
  },
  {
   "cell_type": "code",
   "execution_count": null,
   "id": "a767f9bd",
   "metadata": {},
   "outputs": [],
   "source": []
  }
 ],
 "metadata": {
  "kernelspec": {
   "display_name": "Python 3 (ipykernel)",
   "language": "python",
   "name": "python3"
  },
  "language_info": {
   "codemirror_mode": {
    "name": "ipython",
    "version": 3
   },
   "file_extension": ".py",
   "mimetype": "text/x-python",
   "name": "python",
   "nbconvert_exporter": "python",
   "pygments_lexer": "ipython3",
   "version": "3.10.1"
  }
 },
 "nbformat": 4,
 "nbformat_minor": 5
}
